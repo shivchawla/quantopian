{
 "cells": [
  {
   "cell_type": "markdown",
   "metadata": {},
   "source": [
    "Run the cell below to create your tear sheet."
   ]
  },
  {
   "cell_type": "code",
   "execution_count": null,
   "metadata": {},
   "outputs": [],
   "source": [
    "bt = get_backtest('5d9572b92627fa4c093e9c0c')\n",
    "bt.create_full_tear_sheet()"
   ]
  }
 ],
 "metadata": {
  "from_backtest": "5d9572b92627fa4c093e9c0c"
 },
 "nbformat": 4,
 "nbformat_minor": 2
}
