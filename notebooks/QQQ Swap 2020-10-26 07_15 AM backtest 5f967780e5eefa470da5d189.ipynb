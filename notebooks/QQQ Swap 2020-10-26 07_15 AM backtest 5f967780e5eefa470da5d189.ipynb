{
 "cells": [
  {
   "cell_type": "markdown",
   "metadata": {},
   "source": [
    "Run the cell below to create your tear sheet."
   ]
  },
  {
   "cell_type": "code",
   "execution_count": null,
   "metadata": {},
   "outputs": [],
   "source": [
    "bt = get_backtest('5f967780e5eefa470da5d189')\n",
    "bt.create_full_tear_sheet()"
   ]
  }
 ],
 "metadata": {
  "from_backtest": "5f967780e5eefa470da5d189",
  "kernelspec": {
   "display_name": "Python 3.5",
   "language": "python",
   "name": "py35"
  },
  "language_info": {
   "codemirror_mode": {
    "name": "ipython",
    "version": 3
   },
   "file_extension": ".py",
   "mimetype": "text/x-python",
   "name": "python",
   "nbconvert_exporter": "python",
   "pygments_lexer": "ipython3",
   "version": "3.5.10"
  }
 },
 "nbformat": 4,
 "nbformat_minor": 2
}
