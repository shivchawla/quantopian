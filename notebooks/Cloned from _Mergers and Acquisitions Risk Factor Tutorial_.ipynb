{
 "cells": [
  {
   "cell_type": "markdown",
   "metadata": {
    "collapsed": true
   },
   "source": [
    "# EventVestor: Mergers and Acquisitions\n",
    "\n",
    "In this notebook, we'll take a look at EventVestor's *Mergers and Acquisitions* dataset, available on the [Quantopian Store](https://www.quantopian.com/store). This dataset spans January 01, 2007 through the current day.\n",
    "\n",
    "## Notebook Contents\n",
    "\n",
    "There are two ways to access the data and you'll find both of them listed below. Just click on the section you'd like to read through.\n",
    "\n",
    "- <a href='#interactive'><strong>Interactive overview</strong></a>: This is only available on Research and uses blaze to give you access to large amounts of data. Recommended for exploration and plotting.\n",
    "- <a href='#pipeline'><strong>Pipeline overview</strong></a>: Data is made available through pipeline which is available on both the Research & Backtesting environment. Recommended for custom factor development and moving back & forth between research/backtesting.\n",
    "\n",
    "### Free samples and limits\n",
    "One key caveat: we limit the number of results returned from any given expression to 10,000 to protect against runaway memory usage. To be clear, you have access to all the data server side. We are limiting the size of the responses back from Blaze.\n",
    "\n",
    "There is a *free* version of this dataset as well as a paid one. The free sample includes data until 2 months prior to the current date.\n",
    "\n",
    "To access the most up-to-date values for this data set for trading a live algorithm (as with other partner sets), you need to purchase acess to the full set.\n",
    "\n",
    "With preamble in place, let's get started:\n",
    "\n",
    "<a id='interactive'></a>\n",
    "#Interactive Overview\n",
    "### Accessing the data with Blaze and Interactive on Research\n",
    "Partner datasets are available on Quantopian Research through an API service known as [Blaze](http://blaze.pydata.org). Blaze provides the Quantopian user with a convenient interface to access very large datasets, in an interactive, generic manner.\n",
    "\n",
    "Blaze provides an important function for accessing these datasets. Some of these sets are many millions of records. Bringing that data directly into Quantopian Research directly just is not viable. So Blaze allows us to provide a simple querying interface and shift the burden over to the server side.\n",
    "\n",
    "It is common to use Blaze to reduce your dataset in size, convert it over to Pandas and then to use Pandas for further computation, manipulation and visualization.\n",
    "\n",
    "Helpful links:\n",
    "* [Query building for Blaze](http://blaze.readthedocs.io/en/latest/queries.html)\n",
    "* [Pandas-to-Blaze dictionary](http://blaze.readthedocs.io/en/latest/rosetta-pandas.html)\n",
    "* [SQL-to-Blaze dictionary](http://blaze.readthedocs.io/en/latest/rosetta-sql.html).\n",
    "\n",
    "Once you've limited the size of your Blaze object, you can convert it to a Pandas DataFrames using:\n",
    "> `from odo import odo`  \n",
    "> `odo(expr, pandas.DataFrame)`\n",
    "\n",
    "\n",
    "###To see how this data can be used in your algorithm, search for the `Pipeline Overview` section of this notebook or head straight to <a href='#pipeline'>Pipeline Overview</a>"
   ]
  },
  {
   "cell_type": "code",
   "execution_count": null,
   "metadata": {},
   "outputs": [],
   "source": [
    "# import the dataset\n",
    "from quantopian.interactive.data.eventvestor import mergers_and_acquisitions_free as dataset\n",
    "\n",
    "# or if you want to import the free dataset, use:\n",
    "#from quantopian.data.eventvestor import buyback_auth_free\n",
    "\n",
    "# import data operations\n",
    "from odo import odo\n",
    "# import other libraries we will use\n",
    "import pandas as pd\n",
    "import matplotlib.pyplot as plt"
   ]
  },
  {
   "cell_type": "code",
   "execution_count": null,
   "metadata": {},
   "outputs": [],
   "source": [
    "# Let's use blaze to understand the data a bit using Blaze dshape()\n",
    "dataset.dshape"
   ]
  },
  {
   "cell_type": "code",
   "execution_count": null,
   "metadata": {},
   "outputs": [],
   "source": [
    "# And how many rows are there?\n",
    "# N.B. we're using a Blaze function to do this, not len()\n",
    "dataset.count()"
   ]
  },
  {
   "cell_type": "code",
   "execution_count": null,
   "metadata": {},
   "outputs": [],
   "source": [
    "dataset.asof_date.min()"
   ]
  },
  {
   "cell_type": "code",
   "execution_count": null,
   "metadata": {},
   "outputs": [],
   "source": [
    "# Let's see what the data looks like. We'll grab the first three rows.\n",
    "dataset[:3]"
   ]
  },
  {
   "cell_type": "code",
   "execution_count": null,
   "metadata": {},
   "outputs": [],
   "source": [
    "dataset.is_crossboarder.distinct()"
   ]
  },
  {
   "cell_type": "markdown",
   "metadata": {},
   "source": [
    "Let's go over the columns:\n",
    "- **event_id**: the unique identifier for this buyback authorization.\n",
    "- **asof_date**: EventVestor's timestamp of event capture.\n",
    "- **trade_date**: for event announcements made before trading ends, trade_date is the same as event_date. For announcements issued after market close, trade_date is next market open day.\n",
    "- **symbol**: stock ticker symbol of the affected company.\n",
    "- **event_type**: this should always be *Buyback*.\n",
    "- **event_headline**: a short description of the event.\n",
    "- **timestamp**: this is our timestamp on when we registered the data.\n",
    "- **sid**: the equity's unique identifier. Use this instead of the symbol.\n",
    "- **news_type**: the type of news - `Announcement, Close, Proposal, Termination, Rumor, Rejection, None`\n",
    "- **firm_type**: either `Target` or `Acquirer`\n",
    "- **payment_mode**: the type of offer made - `Mixed Offer, Cash Offer, Other, Stock Offer, None`\n",
    "- **target_type**: `Public, Private, PE Holding, VC Funded, None`\n",
    "- **is_crossboarder**: `None, National, Other, Cross Border`\n",
    "- **deal_amount, deal_currency**: the amount of the deal and its corresponding currency\n",
    "- **related_ticker**: if present, this indicates the ticker being acquired or that is acquiring\n",
    "- **price_pershare, premium_pct**: the price per share and the premium paid\n",
    "\n",
    "\n",
    "We've done much of the data processing for you. Fields like `timestamp` and `sid` are standardized across all our Store Datasets, so the datasets are easy to combine. We have standardized the `sid` across all our equity databases.\n",
    "\n",
    "We can select columns and rows with ease. Below, we'll fetch all entries for Microsoft. We're really only interested in the buyback amount, the units, and the date, so we'll display only those columns."
   ]
  },
  {
   "cell_type": "code",
   "execution_count": null,
   "metadata": {},
   "outputs": [],
   "source": [
    "# get the sid for MSFT\n",
    "symbols('MSFT')"
   ]
  },
  {
   "cell_type": "code",
   "execution_count": null,
   "metadata": {},
   "outputs": [],
   "source": [
    "# knowing that the MSFT sid is 5061:\n",
    "msft = dataset[dataset.sid==5061]\n",
    "msft[:5]"
   ]
  },
  {
   "cell_type": "markdown",
   "metadata": {},
   "source": [
    "<a id='pipeline'></a>\n",
    "\n",
    "#Pipeline Overview\n",
    "\n",
    "### Accessing the data in your algorithms & research\n",
    "The only method for accessing partner data within algorithms running on Quantopian is via the pipeline API.\n",
    "\n",
    "There are a few factors available using the M&A dataset through Pipeline. **They allow you to identify securities that are the current target of an acquisition.** You can also view the payment mode used in the offer as well as the number of business days since the offer was made."
   ]
  },
  {
   "cell_type": "code",
   "execution_count": null,
   "metadata": {},
   "outputs": [],
   "source": [
    "# Import necessary Pipeline modules\n",
    "from quantopian.pipeline import Pipeline\n",
    "from quantopian.research import run_pipeline\n",
    "from quantopian.pipeline.factors import AverageDollarVolume"
   ]
  },
  {
   "cell_type": "markdown",
   "metadata": {},
   "source": [
    "### Filtering out ANNOUNCED targets\n",
    "\n",
    "The following code below shows you how to filter out targets of acquisitions."
   ]
  },
  {
   "cell_type": "code",
   "execution_count": null,
   "metadata": {},
   "outputs": [],
   "source": [
    "from quantopian.pipeline.classifiers.eventvestor import (\n",
    "    AnnouncedAcqTargetType,\n",
    "    ProposedAcqTargetType,\n",
    ")\n",
    "from quantopian.pipeline.factors.eventvestor import (\n",
    "    BusinessDaysSinceAnnouncedAcquisition,\n",
    "    BusinessDaysSinceProposedAcquisition\n",
    ")\n",
    "from quantopian.pipeline.filters.eventvestor import (\n",
    "    IsAnnouncedAcqTarget\n",
    ")\n",
    "\n",
    "from quantopian.pipeline import Pipeline\n",
    "from quantopian.research import run_pipeline\n",
    "    \n",
    "def screen_ma_targets_by_type(target_type='cash'):\n",
    "    \"\"\"\n",
    "    target_type:\n",
    "        (string) Available options are 'cash', 'stock', 'mixed', 'all'.\n",
    "        This will filter all offers of type target_type.\n",
    "    \"\"\"\n",
    "    if target_type == 'all':\n",
    "        return (~IsAnnouncedAcqTarget())\n",
    "    else:\n",
    "        if target_type == 'cash':\n",
    "            filter_offer = 'Cash Offer'\n",
    "        elif target_type == 'stock':\n",
    "            filter_offer = 'Stock Offer'\n",
    "        elif target_type == 'mixed':\n",
    "            filter_offer = 'Mixed Offer'\n",
    "        return (~AnnouncedAcqTargetType().eq(filter_offer))\n",
    "    \n",
    "def screen_ma_targets_by_days(days=200):\n",
    "    \"\"\"\n",
    "    days:\n",
    "        (int) Filters out securities that have had an announcement\n",
    "        less than X days. So if days is 200, all securities\n",
    "        that have had an announcement less than 200 days ago will be\n",
    "        filtered out.\n",
    "    \"\"\"\n",
    "    b_days = BusinessDaysSinceAnnouncedAcquisition()\n",
    "    return ((b_days > days) | b_days.isnull())\n",
    "\n",
    "pipe = Pipeline(\n",
    "    columns={\n",
    "            'AnnouncedAcqTargetType': AnnouncedAcqTargetType(),\n",
    "            'BusinessDays': BusinessDaysSinceAnnouncedAcquisition()\n",
    "            },\n",
    "    screen=(screen_ma_targets_by_days(60) &\n",
    "            screen_ma_targets_by_type(target_type='stock'))\n",
    ")\n",
    "\n",
    "output = run_pipeline(pipe, start_date='2016-07-28', end_date='2016-07-28')"
   ]
  },
  {
   "cell_type": "markdown",
   "metadata": {},
   "source": [
    "### Filtering out PROPOSED targets\n",
    "\n",
    "If you'd also like to filter out proposed targets, please view below"
   ]
  },
  {
   "cell_type": "code",
   "execution_count": null,
   "metadata": {},
   "outputs": [],
   "source": [
    "\"\"\"\n",
    "Similar functions for M&A Proposals (different from Announcements)\n",
    "\"\"\"\n",
    "\n",
    "def screen_ma_proposal_targets_by_type(target_type='cash'):\n",
    "    \"\"\"\n",
    "    target_type:\n",
    "        (string) Available options are 'cash', 'stock', 'mixed', 'all'.\n",
    "        This will filter all offers of type target_type.\n",
    "    \"\"\"\n",
    "    if target_type == 'all':\n",
    "        return (ProposedAcqTargetType().isnull() &\n",
    "                BusinessDaysSinceProposedAcquisition().isnull())\n",
    "    if target_type == 'cash':\n",
    "        filter_offer = 'Cash Offer'\n",
    "    elif target_type == 'stock':\n",
    "        filter_offer = 'Stock Offer'\n",
    "    elif target_type == 'mixed':\n",
    "        filter_offer = 'Mixed Offer'\n",
    "    return (~ProposedAcqTargetType().eq(filter_offer))\n",
    "    \n",
    "def screen_ma_proposal_targets_by_days(days=200):\n",
    "    \"\"\"\n",
    "    days:\n",
    "        (int) Filters out securities that have had an announcement\n",
    "        less than X days. So if days is 200, all securities\n",
    "        that have had an announcement less than 200 days ago will be\n",
    "        filtered out.\n",
    "    \"\"\"\n",
    "    b_days = BusinessDaysSinceProposedAcquisition()\n",
    "    return ((b_days > days) | b_days.isnull())"
   ]
  }
 ],
 "metadata": {
  "kernelspec": {
   "display_name": "Python 2",
   "language": "python",
   "name": "python2"
  },
  "language_info": {
   "codemirror_mode": {
    "name": "ipython",
    "version": 2
   },
   "file_extension": ".py",
   "mimetype": "text/x-python",
   "name": "python",
   "nbconvert_exporter": "python",
   "pygments_lexer": "ipython2",
   "version": "2.7.12"
  }
 },
 "nbformat": 4,
 "nbformat_minor": 0
}
