{
 "cells": [
  {
   "cell_type": "code",
   "execution_count": null,
   "metadata": {},
   "outputs": [],
   "source": [
    "from cvxopt import matrix, solvers, spdiag, spmatrix,sparse"
   ]
  },
  {
   "cell_type": "code",
   "execution_count": null,
   "metadata": {},
   "outputs": [],
   "source": [
    "nstocks=5"
   ]
  },
  {
   "cell_type": "code",
   "execution_count": null,
   "metadata": {},
   "outputs": [],
   "source": [
    "Q_weights = spmatrix(0.0, range(nstocks), range(nstocks))"
   ]
  },
  {
   "cell_type": "code",
   "execution_count": null,
   "metadata": {},
   "outputs": [],
   "source": [
    "print Q_weights"
   ]
  },
  {
   "cell_type": "code",
   "execution_count": null,
   "metadata": {},
   "outputs": [],
   "source": [
    "turnover_exposure_matrix = sparse([\n",
    "                                matrix(0, (nstocks,1)),\n",
    "                                matrix(0, (1, 1)),  \n",
    "                                matrix(1.0, (nstocks,1))]).T\n",
    "print turnover_exposure_matrix"
   ]
  },
  {
   "cell_type": "code",
   "execution_count": null,
   "metadata": {},
   "outputs": [],
   "source": [
    "# factor_exposure_matrix = matrix()\n",
    "if factor_exposure_matrix:\n",
    "    factor_exposure_matrix = sparse([factor_exposure_matrix, turnover_exposure_matrix])\n",
    "else:\n",
    "    factor_exposure_matrix = turnover_exposure_matrix\n",
    "\n",
    "print factor_exposure_matrix"
   ]
  },
  {
   "cell_type": "code",
   "execution_count": null,
   "metadata": {},
   "outputs": [],
   "source": [
    "import numpy as np"
   ]
  },
  {
   "cell_type": "code",
   "execution_count": null,
   "metadata": {},
   "outputs": [],
   "source": [
    "for i in range(nstocks):\n",
    "        var_indicator = np.zeros(nstocks)\n",
    "        var_indicator[i] = 1.0\n",
    "        _var_link_matrix =  sparse([\n",
    "                                matrix(var_indicator, (nstocks,1)),\n",
    "                                matrix(0, (1, 1)),    \n",
    "                                matrix(-var_indicator, (nstocks,1))]).T\n",
    "        print _var_link_matrix"
   ]
  },
  {
   "cell_type": "code",
   "execution_count": null,
   "metadata": {},
   "outputs": [],
   "source": [
    "turnover_var_lnk_matrix = matrix()\n",
    "for i in range(nstocks):\n",
    "    var_indicator = np.zeros(nstocks)\n",
    "    var_indicator[i] = 1.0\n",
    "    _var_link_matrix =  sparse([\n",
    "                            matrix(var_indicator, (nstocks,1)),\n",
    "                            matrix(0, (1, 1)),    \n",
    "                            matrix(-var_indicator, (nstocks,1))]).T\n",
    "\n",
    "    if turnover_var_lnk_matrix:\n",
    "        turnover_var_lnk_matrix = sparse([turnover_var_lnk_matrix, _var_link_matrix])\n",
    "    else:\n",
    "        turnover_var_lnk_matrix = _var_link_matrix\n",
    "\n",
    "print turnover_var_lnk_matrix"
   ]
  },
  {
   "cell_type": "code",
   "execution_count": null,
   "metadata": {},
   "outputs": [],
   "source": [
    "x = [1,2]\n",
    "print len(x)"
   ]
  },
  {
   "cell_type": "code",
   "execution_count": null,
   "metadata": {},
   "outputs": [],
   "source": [
    "import numpy as np"
   ]
  },
  {
   "cell_type": "code",
   "execution_count": null,
   "metadata": {},
   "outputs": [],
   "source": [
    "a = np.ones(11)\n",
    "print a.shape"
   ]
  },
  {
   "cell_type": "code",
   "execution_count": null,
   "metadata": {},
   "outputs": [],
   "source": [
    "b = np.full((1), 2.0)\n",
    "print b.shape"
   ]
  },
  {
   "cell_type": "code",
   "execution_count": null,
   "metadata": {},
   "outputs": [],
   "source": [
    "c = np.vstack((b,a))\n",
    "print c\n",
    "print c.shape"
   ]
  },
  {
   "cell_type": "code",
   "execution_count": null,
   "metadata": {},
   "outputs": [],
   "source": [
    "print b.size"
   ]
  },
  {
   "cell_type": "code",
   "execution_count": null,
   "metadata": {},
   "outputs": [],
   "source": [
    "a = np.arange(5)"
   ]
  },
  {
   "cell_type": "code",
   "execution_count": null,
   "metadata": {},
   "outputs": [],
   "source": [
    "print a"
   ]
  },
  {
   "cell_type": "code",
   "execution_count": null,
   "metadata": {},
   "outputs": [],
   "source": [
    "print a[0:len(a)-1]\n"
   ]
  },
  {
   "cell_type": "code",
   "execution_count": null,
   "metadata": {},
   "outputs": [],
   "source": []
  }
 ],
 "metadata": {
  "kernelspec": {
   "display_name": "Python 2",
   "language": "python",
   "name": "python2"
  },
  "language_info": {
   "codemirror_mode": {
    "name": "ipython",
    "version": 2
   },
   "file_extension": ".py",
   "mimetype": "text/x-python",
   "name": "python",
   "nbconvert_exporter": "python",
   "pygments_lexer": "ipython2",
   "version": "2.7.12"
  }
 },
 "nbformat": 4,
 "nbformat_minor": 2
}
